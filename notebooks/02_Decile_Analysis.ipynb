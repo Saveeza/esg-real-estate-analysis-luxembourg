{
 "cells": [
  {
   "cell_type": "markdown",
   "id": "a693340b",
   "metadata": {},
   "source": [
    "# 🧠 ESG Decile Analysis: Return Stratification by Sustainability Score\n",
    "\n",
    "This notebook performs ESG decile segmentation of investment funds to assess return distribution patterns across ESG strata. The analysis uses quantile binning, distribution visualizations, and mean-return aggregation to explore ESG-linked performance behavior. This is a standard method in green finance for institutional fund comparison and relative benchmarking.\n",
    "\n",
    "---\n",
    "**TECHNIQUES USED:**\n",
    "- ESG Score Binning via Deciles (Quantile-based segmentation)\n",
    "- Distributional Analysis (Boxplot)\n",
    "- Aggregated Performance View (Bar Chart)\n",
    "---"
   ]
  },
  {
   "cell_type": "code",
   "execution_count": null,
   "id": "30519df9",
   "metadata": {},
   "outputs": [],
   "source": [
    "import pandas as pd\n",
    "import matplotlib.pyplot as plt\n",
    "import seaborn as sns\n",
    "\n",
    "# 🛠️ Configure style\n",
    "sns.set(style=\"whitegrid\")"
   ]
  },
  {
   "cell_type": "code",
   "execution_count": null,
   "id": "2b77d998",
   "metadata": {},
   "outputs": [],
   "source": [
    "# 📥 Step 1: Load ESG Score + Return Data\n",
    "df = pd.read_csv('../data/fund_esg_scores_and_returns.csv')"
   ]
  },
  {
   "cell_type": "code",
   "execution_count": null,
   "id": "1f2f4e70",
   "metadata": {},
   "outputs": [],
   "source": [
    "# 🧮 Step 2: Assign ESG Deciles (1 = Lowest ESG, 10 = Highest)\n",
    "df['ESG_Decile'] = pd.qcut(df['ESG_Score'], 10, labels=False) + 1"
   ]
  },
  {
   "cell_type": "code",
   "execution_count": null,
   "id": "42927139",
   "metadata": {},
   "outputs": [],
   "source": [
    "# 📊 Step 3: Boxplot — Return Distribution by ESG Decile\n",
    "plt.figure(figsize=(10, 6))\n",
    "sns.boxplot(x='ESG_Decile', y='Annual_Return_%', data=df, palette='viridis')\n",
    "plt.title('Distribution of Returns by ESG Score Decile', fontsize=13)\n",
    "plt.xlabel('ESG Score Decile (1 = Lowest)')\n",
    "plt.ylabel('Annual Return (%)')\n",
    "plt.tight_layout()\n",
    "plt.show()"
   ]
  },
  {
   "cell_type": "code",
   "execution_count": null,
   "id": "47e6c34c",
   "metadata": {},
   "outputs": [],
   "source": [
    "# 📈 Step 4: Bar Chart — Mean Return per ESG Decile\n",
    "plt.figure(figsize=(10, 5))\n",
    "df.groupby('ESG_Decile')['Annual_Return_%'].mean().plot(kind='bar', color='darkgreen')\n",
    "plt.title('Average Annual Return per ESG Score Decile', fontsize=13)\n",
    "plt.xlabel('ESG Score Decile')\n",
    "plt.ylabel('Mean Return (%)')\n",
    "plt.xticks(rotation=0)\n",
    "plt.grid(axis='y', linestyle='--', alpha=0.7)\n",
    "plt.tight_layout()\n",
    "plt.show()"
   ]
  },
  {
   "cell_type": "code",
   "execution_count": null,
   "id": "e329d88c",
   "metadata": {},
   "outputs": [],
   "source": [
    "# 📐 Step 5: Monotonic Trend Check — Spearman Correlation\n",
    "from scipy.stats import spearmanr\n",
    "\n",
    "# Correlate decile number with mean return to assess monotonicity\n",
    "decile_returns = df.groupby('ESG_Decile')['Annual_Return_%'].mean().reset_index()\n",
    "corr, pval = spearmanr(decile_returns['ESG_Decile'], decile_returns['Annual_Return_%'])\n",
    "print(f\"Spearman Correlation: {corr:.3f} (p-value: {pval:.4f})\")\n",
    "if pval < 0.05:\n",
    "    print(\"✅ Statistically significant monotonic trend in returns across ESG deciles.\")\n",
    "else:\n",
    "    print(\"⚠️ No statistically significant monotonic trend detected.\")"
   ]
  }
 ],
 "metadata": {
  "kernelspec": {
   "display_name": "Python 3",
   "language": "python",
   "name": "python3"
  },
  "language_info": {
   "name": "python",
   "version": "3.8"
  }
 },
 "nbformat": 4,
 "nbformat_minor": 5
}
